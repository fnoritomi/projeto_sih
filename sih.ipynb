{
  "nbformat": 4,
  "nbformat_minor": 0,
  "metadata": {
    "colab": {
      "provenance": [],
      "authorship_tag": "ABX9TyMD+QB4/XPhsZf4XdcBS3qY",
      "include_colab_link": true
    },
    "kernelspec": {
      "name": "python3",
      "display_name": "Python 3"
    },
    "language_info": {
      "name": "python"
    }
  },
  "cells": [
    {
      "cell_type": "markdown",
      "metadata": {
        "id": "view-in-github",
        "colab_type": "text"
      },
      "source": [
        "<a href=\"https://colab.research.google.com/github/fnoritomi/projeto_sih/blob/main/sih.ipynb\" target=\"_parent\"><img src=\"https://colab.research.google.com/assets/colab-badge.svg\" alt=\"Open In Colab\"/></a>"
      ]
    },
    {
      "cell_type": "code",
      "source": [
        "from google.colab import drive\n",
        "drive.mount('/content/drive')"
      ],
      "metadata": {
        "colab": {
          "base_uri": "https://localhost:8080/"
        },
        "id": "E2dOuEcwPo4j",
        "outputId": "289fcca1-ab38-4650-814f-f08e9a555322"
      },
      "execution_count": 1,
      "outputs": [
        {
          "output_type": "stream",
          "name": "stdout",
          "text": [
            "Mounted at /content/drive\n"
          ]
        }
      ]
    },
    {
      "cell_type": "code",
      "source": [
        "import pandas as pd\n",
        "import duckdb\n",
        "\n",
        "pd.set_option('display.max_rows', 1000)\n",
        "pd.set_option('display.max_columns', 200)\n",
        "pd.set_option('display.max_info_columns', 200)"
      ],
      "metadata": {
        "id": "f_n41r-ESNvx"
      },
      "execution_count": 21,
      "outputs": []
    },
    {
      "cell_type": "code",
      "source": [
        "import pandas as pd\n",
        "colunas = [\n",
        "    'UF_ZI',\n",
        "    'ANO_CMPT',\n",
        "    'MES_CMPT',\n",
        "    'ESPEC',\n",
        "    'CGC_HOSP',\n",
        "    'N_AIH',\n",
        "    'IDENT',\n",
        "    'CEP',\n",
        "    'MUNIC_RES',\n",
        "    'NASC',\n",
        "    'SEXO',\n",
        "    #'UTI_MES_IN', 'UTI_MES_AN', 'UTI_MES_AL',\n",
        "    'UTI_MES_TO',\n",
        "    'MARCA_UTI',\n",
        "    #'UTI_INT_IN', 'UTI_INT_AN', 'UTI_INT_AL',\n",
        "    'UTI_INT_TO',\n",
        "    'DIAR_ACOM',\n",
        "    'QT_DIARIAS',\n",
        "    'PROC_SOLIC',\n",
        "    'PROC_REA',\n",
        "    'VAL_SH',\n",
        "    'VAL_SP',\n",
        "    #'VAL_SADT', 'VAL_RN', 'VAL_ACOMP', 'VAL_ORTP', 'VAL_SANGUE', 'VAL_SADTSR', 'VAL_TRANSP', 'VAL_OBSANG', 'VAL_PED1AC',\n",
        "    'VAL_TOT',\n",
        "    'VAL_UTI',\n",
        "    #'US_TOT',\n",
        "    'DT_INTER',\n",
        "    'DT_SAIDA',\n",
        "    'DIAG_PRINC',\n",
        "    'DIAG_SECUN',\n",
        "    'COBRANCA',\n",
        "    'NATUREZA',\n",
        "    'NAT_JUR',\n",
        "    'GESTAO',\n",
        "    #'RUBRICA',\n",
        "    #'IND_VDRL',\n",
        "    'MUNIC_MOV',\n",
        "    'COD_IDADE',\n",
        "    'IDADE',\n",
        "    'DIAS_PERM',\n",
        "    'MORTE',\n",
        "    'NACIONAL',\n",
        "    #'NUM_PROC',\n",
        "    'CAR_INT',\n",
        "    #'TOT_PT_SP', 'CPF_AUT', 'HOMONIMO',\n",
        "    'NUM_FILHOS',\n",
        "    'INSTRU',\n",
        "    'CID_NOTIF',\n",
        "    'CONTRACEP1',\n",
        "    'CONTRACEP2',\n",
        "    'GESTRISCO',\n",
        "    'INSC_PN',\n",
        "    'SEQ_AIH5',\n",
        "    'CBOR',\n",
        "    #'CNAER',\n",
        "    #'VINCPREV',\n",
        "    #'GESTOR_COD',\n",
        "    #'GESTOR_TP', 'GESTOR_CPF', 'GESTOR_DT',\n",
        "    'CNES',\n",
        "    #'CNPJ_MANT',\n",
        "    'INFEHOSP',\n",
        "    'CID_ASSO',\n",
        "    'CID_MORTE',\n",
        "    'COMPLEX',\n",
        "    'FINANC',\n",
        "    #'FAEC_TP',\n",
        "    #'REGCT',\n",
        "    'RACA_COR',\n",
        "    'ETNIA',\n",
        "    #'SEQUENCIA',\n",
        "    #'REMESSA',\n",
        "    #'AUD_JUST',\n",
        "    #'SIS_JUST',\n",
        "    #'VAL_SH_FED', 'VAL_SP_FED', 'VAL_SH_GES', 'VAL_SP_GES',\n",
        "    'VAL_UCI',\n",
        "    'MARCA_UCI',\n",
        "    'DIAGSEC1',\n",
        "    'DIAGSEC2',\n",
        "    'DIAGSEC3',\n",
        "    'DIAGSEC4',\n",
        "    'DIAGSEC5',\n",
        "    'DIAGSEC6',\n",
        "    'DIAGSEC7',\n",
        "    'DIAGSEC8',\n",
        "    'DIAGSEC9',\n",
        "    'TPDISEC1',\n",
        "    'TPDISEC2',\n",
        "    'TPDISEC3',\n",
        "    'TPDISEC4',\n",
        "    'TPDISEC5',\n",
        "    'TPDISEC6',\n",
        "    'TPDISEC7',\n",
        "    'TPDISEC8',\n",
        "    'TPDISEC9']\n",
        "cols_str = ['DIAGSEC1', 'DIAGSEC2', 'DIAGSEC3', 'DIAGSEC4', 'DIAGSEC5', 'DIAGSEC6', 'DIAGSEC7', 'DIAGSEC8', 'DIAGSEC9']\n",
        "dtypes = {x: str for x in cols_str }\n",
        "dtypes\n"
      ],
      "metadata": {
        "colab": {
          "base_uri": "https://localhost:8080/"
        },
        "id": "osyVfuo2UcDC",
        "outputId": "6aa89a57-0a4e-4e08-f92d-dedcfb91d682"
      },
      "execution_count": 37,
      "outputs": [
        {
          "output_type": "execute_result",
          "data": {
            "text/plain": [
              "{'DIAGSEC1': str,\n",
              " 'DIAGSEC2': str,\n",
              " 'DIAGSEC3': str,\n",
              " 'DIAGSEC4': str,\n",
              " 'DIAGSEC5': str,\n",
              " 'DIAGSEC6': str,\n",
              " 'DIAGSEC7': str,\n",
              " 'DIAGSEC8': str,\n",
              " 'DIAGSEC9': str}"
            ]
          },
          "metadata": {},
          "execution_count": 37
        }
      ]
    },
    {
      "cell_type": "markdown",
      "source": [],
      "metadata": {
        "id": "1bZeocJciS7j"
      }
    },
    {
      "cell_type": "code",
      "source": [
        "base = pd.read_csv('/content/drive/MyDrive/Colab Notebooks/Dados/sih/RD202401.csv', sep = ';', dtype=dtypes, usecols=colunas)\n"
      ],
      "metadata": {
        "id": "748zuGjudq0R"
      },
      "execution_count": 38,
      "outputs": []
    },
    {
      "cell_type": "code",
      "source": [
        "base[(base['UF_ZI']>=530000]"
      ],
      "metadata": {
        "colab": {
          "base_uri": "https://localhost:8080/"
        },
        "id": "_HMDY-o4jgDW",
        "outputId": "7ff68104-e2c2-4166-b1d0-d2e7a3634442"
      },
      "execution_count": 48,
      "outputs": [
        {
          "output_type": "execute_result",
          "data": {
            "text/plain": [
              "array([530000])"
            ]
          },
          "metadata": {},
          "execution_count": 48
        }
      ]
    }
  ]
}